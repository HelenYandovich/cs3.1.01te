{
 "cells": [
  {
   "cell_type": "code",
   "execution_count": 1,
   "metadata": {},
   "outputs": [
    {
     "name": "stdout",
     "output_type": "stream",
     "text": [
      "HELLO PYTHON!\n"
     ]
    }
   ],
   "source": [
    "message = \"HELLO PYTHON!\"\n",
    "print(message)"
   ]
  },
  {
   "cell_type": "code",
   "execution_count": 6,
   "metadata": {},
   "outputs": [
    {
     "name": "stdout",
     "output_type": "stream",
     "text": [
      "PYTHON IS GREAT!\n"
     ]
    }
   ],
   "source": [
    "message = \"PYTHON IS GREAT!\" \n",
    "print(message)"
   ]
  },
  {
   "cell_type": "code",
   "execution_count": 10,
   "metadata": {},
   "outputs": [
    {
     "name": "stdout",
     "output_type": "stream",
     "text": [
      "double-quoted string.\n",
      "single-quoted string.\n",
      "Linus Torvalds once said, 'Any program is only as good as it is useful.'\n"
     ]
    }
   ],
   "source": [
    "first_string = \"double-quoted string.\"\n",
    "print(first_string)\n",
    "first_string = 'single-quoted string.'\n",
    "print(first_string)\n",
    "quote = \"Linus Torvalds once said, 'Any program is only as good as it is useful.'\"\n",
    "print(quote)"
   ]
  },
  {
   "cell_type": "markdown",
   "metadata": {},
   "source": []
  },
  {
   "cell_type": "code",
   "execution_count": 22,
   "metadata": {},
   "outputs": [
    {
     "name": "stdout",
     "output_type": "stream",
     "text": [
      "sara\n",
      "Sara\n",
      "SARA\n",
      "sara\n"
     ]
    }
   ],
   "source": [
    "Name= 'sara'\n",
    "print(Name)\n",
    "print(Name.title())\n",
    "print(Name.upper())\n",
    "print(Name.lower())"
   ]
  },
  {
   "cell_type": "code",
   "execution_count": 21,
   "metadata": {},
   "outputs": [
    {
     "name": "stdout",
     "output_type": "stream",
     "text": [
      "Helen Yandovich\n",
      "Helen Yandovich wants to learn python\n"
     ]
    }
   ],
   "source": [
    "First_Name = 'helen'\n",
    "Last_Name = 'yandovich'\n",
    "Full_Name = First_Name + ' '+ Last_Name\n",
    "print(Full_Name.title())\n",
    "mess = Full_Name.title() + ' ' + \"wants to learn python\"\n",
    "print(mess)"
   ]
  },
  {
   "cell_type": "code",
   "execution_count": 28,
   "metadata": {},
   "outputs": [
    {
     "name": "stdout",
     "output_type": "stream",
     "text": [
      "auuf\n",
      "\tauuf\n",
      "auuf\n",
      "auuf\n",
      "\n",
      "auuf\n",
      "auuf \u0007uuf\n",
      "\n",
      "\n",
      "\n",
      "auuf\n"
     ]
    }
   ],
   "source": [
    "print(\"auuf\")\n",
    "print(\"\\tauuf\")\n",
    "print(\"auuf\")\n",
    "print(\"auuf\")\n",
    "print(\"\\nauuf\")\n",
    "print(\"auuf \\auuf\")\n",
    "print(\"\\n\\n\\nauuf\")"
   ]
  },
  {
   "cell_type": "code",
   "execution_count": 32,
   "metadata": {},
   "outputs": [
    {
     "name": "stdout",
     "output_type": "stream",
     "text": [
      "sara \n",
      " sara\n",
      "sara\n"
     ]
    }
   ],
   "source": [
    "name = ' sara '\n",
    "print(name.lstrip())\n",
    "print(name.rstrip())\n",
    "print(name.strip())"
   ]
  },
  {
   "cell_type": "code",
   "execution_count": 34,
   "metadata": {},
   "outputs": [
    {
     "name": "stdout",
     "output_type": "stream",
     "text": [
      "'The greatest glory in living lies not in never falling, but in rising every time we fall.' -Nelson Mandela\n"
     ]
    }
   ],
   "source": [
    "q= \"'The greatest glory in living lies not in never falling, but in rising every time we fall.' -Nelson Mandela\"\n",
    "print(q)"
   ]
  },
  {
   "cell_type": "code",
   "execution_count": 37,
   "metadata": {},
   "outputs": [
    {
     "name": "stdout",
     "output_type": "stream",
     "text": [
      "4\n",
      "0\n",
      "4\n",
      "1.0\n",
      "16\n",
      "8\n",
      "50\n",
      "0.2\n"
     ]
    }
   ],
   "source": [
    "#COMMS wow NUMBERS\n",
    "print(2+2)\n",
    "print(2-2)\n",
    "print(2*2)\n",
    "print(2/2)\n",
    "print(2**4)\n",
    "\n",
    "numbers=2+2*3\n",
    "print(numbers)\n",
    "new_number = 5*(2+8)\n",
    "print(new_number)\n",
    "print(0.1+0.1)"
   ]
  },
  {
   "cell_type": "code",
   "execution_count": 48,
   "metadata": {},
   "outputs": [
    {
     "name": "stdout",
     "output_type": "stream",
     "text": [
      "\n",
      "You are doing good work, Adriana!\n",
      "Thank you very much for your efforts on this project.\n",
      "\n",
      "You are doing good work, Billy!\n",
      "Thank you very much for your efforts on this project.\n",
      "\n",
      "You are doing good work, Caroline!\n",
      "Thank you very much for your efforts on this project.\n"
     ]
    }
   ],
   "source": [
    "#FUNCTIONS\n",
    "def func(arg1):\n",
    "    print(\"\\nYou are doing good work, %s!\" % arg1)\n",
    "    print(\"Thank you very much for your efforts on this project.\")\n",
    "\n",
    "func('Adriana')\n",
    "func('Billy')\n",
    "func('Caroline')\n",
    "\n"
   ]
  },
  {
   "cell_type": "code",
   "execution_count": 87,
   "metadata": {},
   "outputs": [
    {
     "ename": "IndentationError",
     "evalue": "unindent does not match any outer indentation level (<tokenize>, line 9)",
     "output_type": "error",
     "traceback": [
      "\u001b[0;36m  File \u001b[0;32m\"<tokenize>\"\u001b[0;36m, line \u001b[0;32m9\u001b[0m\n\u001b[0;31m    for current_number in range(0,4):\u001b[0m\n\u001b[0m    ^\u001b[0m\n\u001b[0;31mIndentationError\u001b[0m\u001b[0;31m:\u001b[0m unindent does not match any outer indentation level\n"
     ]
    }
   ],
   "source": [
    "def get_number_word(n):\n",
    "\n",
    "    if n == 1:\n",
    "return 'one'\n",
    "elif n == 2:\n",
    "    return 'two'\n",
    "elif n == 3:\n",
    "        return 'three'\n",
    "    for current_number in range(0,4):\n",
    "number_word = get_number_word(current_number)\n",
    "print(current_number, number_word) "
   ]
  },
  {
   "cell_type": "code",
   "execution_count": 91,
   "metadata": {},
   "outputs": [
    {
     "name": "stdout",
     "output_type": "stream",
     "text": [
      "Hello, Andrew~\n",
      "Hello, Julia~\n",
      "Hello, Liza~\n",
      "Border Collie\n"
     ]
    }
   ],
   "source": [
    "students = ['andrew', 'julia', 'liza']\n",
    "for student in students:\n",
    "    print(\"Hello, \" + student.title() + \"~\")\n",
    "    "
   ]
  },
  {
   "cell_type": "code",
   "execution_count": 98,
   "metadata": {},
   "outputs": [
    {
     "name": "stdout",
     "output_type": "stream",
     "text": [
      "Australian Cattle Dog\n"
     ]
    }
   ],
   "source": [
    "dogs = ['border collie', 'australian cattle dog', 'labrador retriever']\n",
    "dog = dogs[-2]\n",
    "print(dog.title())\n"
   ]
  },
  {
   "cell_type": "code",
   "execution_count": 96,
   "metadata": {},
   "outputs": [
    {
     "name": "stdout",
     "output_type": "stream",
     "text": [
      "border collie\n",
      "australian cattle dog\n",
      "labrador retriever\n"
     ]
    }
   ],
   "source": [
    "dogs = ['border collie', 'australian cattle dog', 'labrador retriever']\n",
    "for dog in dogs:\n",
    "    print(dog)"
   ]
  },
  {
   "cell_type": "code",
   "execution_count": 105,
   "metadata": {},
   "outputs": [
    {
     "name": "stdout",
     "output_type": "stream",
     "text": [
      "Results for the dog show are as follows:\n",
      "\n",
      "Place: 2\n",
      "Dog: Labrador Retriever\n"
     ]
    }
   ],
   "source": [
    "dogs = ['border collie', 'australian cattle dog', 'labrador retriever']\n",
    "print(\"Results for the dog show are as follows:\\n\")\n",
    "for index, dog in enumerate(dogs):\n",
    "\n",
    "    place = str(index)\n",
    "print(\"Place: \" + place + \"\\nDog: \" + dog.title())"
   ]
  },
  {
   "cell_type": "code",
   "execution_count": null,
   "metadata": {},
   "outputs": [],
   "source": []
  },
  {
   "cell_type": "code",
   "execution_count": null,
   "metadata": {},
   "outputs": [],
   "source": []
  }
 ],
 "metadata": {
  "kernelspec": {
   "display_name": "Python 3",
   "language": "python",
   "name": "python3"
  },
  "language_info": {
   "codemirror_mode": {
    "name": "ipython",
    "version": 3
   },
   "file_extension": ".py",
   "mimetype": "text/x-python",
   "name": "python",
   "nbconvert_exporter": "python",
   "pygments_lexer": "ipython3",
   "version": "3.6.10"
  }
 },
 "nbformat": 4,
 "nbformat_minor": 4
}
